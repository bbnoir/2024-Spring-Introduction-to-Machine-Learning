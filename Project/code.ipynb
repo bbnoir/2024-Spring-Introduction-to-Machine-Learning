{
  "cells": [
    {
      "cell_type": "markdown",
      "metadata": {
        "id": "BLUmgOEqC_9j"
      },
      "source": [
        "# Import"
      ]
    },
    {
      "cell_type": "code",
      "execution_count": null,
      "metadata": {
        "execution": {
          "iopub.execute_input": "2024-06-20T02:44:42.976716Z",
          "iopub.status.busy": "2024-06-20T02:44:42.976396Z",
          "iopub.status.idle": "2024-06-20T02:44:43.062407Z",
          "shell.execute_reply": "2024-06-20T02:44:43.061648Z",
          "shell.execute_reply.started": "2024-06-20T02:44:42.976684Z"
        },
        "id": "zOdmnaz-C_9m",
        "trusted": true
      },
      "outputs": [],
      "source": [
        "import torch\n",
        "import torch.nn as nn\n",
        "import torch.optim as optim\n",
        "from torch.utils.data import DataLoader\n",
        "from torchvision import transforms\n",
        "from torchsummary import summary\n",
        "from torchvision.datasets import ImageFolder\n",
        "\n",
        "from thop import profile\n",
        "\n",
        "import matplotlib.pyplot as plt\n",
        "\n",
        "device = torch.device(\"cuda:0\" if torch.cuda.is_available() else \"cpu\")"
      ]
    },
    {
      "cell_type": "markdown",
      "metadata": {
        "id": "rghK3RddC_9o"
      },
      "source": [
        "# Data"
      ]
    },
    {
      "cell_type": "code",
      "execution_count": null,
      "metadata": {
        "colab": {
          "base_uri": "https://localhost:8080/"
        },
        "execution": {
          "iopub.execute_input": "2024-06-20T02:44:43.130469Z",
          "iopub.status.busy": "2024-06-20T02:44:43.130215Z",
          "iopub.status.idle": "2024-06-20T02:44:43.223011Z",
          "shell.execute_reply": "2024-06-20T02:44:43.222376Z",
          "shell.execute_reply.started": "2024-06-20T02:44:43.130447Z"
        },
        "id": "9Gld8z2NC_9p",
        "outputId": "0c2163ce-7779-4a44-a8ba-93d34fb36f3d",
        "trusted": true
      },
      "outputs": [],
      "source": [
        "training_transforms = transforms.Compose([\n",
        "    transforms.ToTensor(),\n",
        "    transforms.Resize((128, 128), antialias=True),\n",
        "    transforms.RandomHorizontalFlip(),\n",
        "    transforms.RandomAffine(degrees=20, translate=(0.1, 0.1), scale=(0.9, 1.1), shear=0.1),\n",
        "    transforms.RandomPerspective(distortion_scale=0.1, p=0.5),\n",
        "    transforms.ColorJitter(brightness=0.2, contrast=0.2, saturation=0.2, hue=0.2),\n",
        "    transforms.RandomGrayscale(p=0.1),\n",
        "])\n",
        "\n",
        "testing_transforms = transforms.Compose([\n",
        "    transforms.ToTensor(),\n",
        "    transforms.Resize((128, 128), antialias=True),\n",
        "])\n",
        "\n",
        "batch_size = 64\n",
        "train_dataset = ImageFolder(root='./dataset/train', transform=training_transforms)\n",
        "train_loader = DataLoader(train_dataset, batch_size=batch_size, shuffle=True, num_workers=4)\n",
        "test_dataset = ImageFolder(root='./dataset/test', transform=testing_transforms)\n",
        "test_loader = DataLoader(test_dataset, batch_size=batch_size, shuffle=True, num_workers=4)"
      ]
    },
    {
      "cell_type": "markdown",
      "metadata": {
        "id": "qzXjWAMWC_9p"
      },
      "source": [
        "# Model"
      ]
    },
    {
      "cell_type": "code",
      "execution_count": null,
      "metadata": {
        "execution": {
          "iopub.execute_input": "2024-06-20T02:44:43.224994Z",
          "iopub.status.busy": "2024-06-20T02:44:43.224533Z",
          "iopub.status.idle": "2024-06-20T02:44:43.247861Z",
          "shell.execute_reply": "2024-06-20T02:44:43.246980Z",
          "shell.execute_reply.started": "2024-06-20T02:44:43.224964Z"
        },
        "id": "yxVW_EWNXYRS",
        "trusted": true
      },
      "outputs": [],
      "source": [
        "def DepthwiseSeparableConv(in_channels, out_channels, kernel_size=3, stride=1, padding=1):\n",
        "    return nn.Sequential(\n",
        "        nn.Conv2d(in_channels, in_channels, kernel_size, stride, padding, groups=in_channels),\n",
        "        nn.Conv2d(in_channels, out_channels, 1),\n",
        "    )\n",
        "\n",
        "def conv(in_channels, out_channels, kernel_size=3, bias=True):\n",
        "    return DepthwiseSeparableConv(in_channels, out_channels, kernel_size)\n",
        "\n",
        "def act():\n",
        "    return nn.LeakyReLU()\n",
        "\n",
        "def bn(channels):\n",
        "    return nn.BatchNorm2d(channels)\n",
        "\n",
        "def pool():\n",
        "    return nn.MaxPool2d(2, 2)\n",
        "\n",
        "class ResBlock(nn.Module):\n",
        "    def __init__(self, in_channels, out_channels, dropout_rate=0.2):\n",
        "        super(ResBlock, self).__init__()\n",
        "        self.conv1 = conv(in_channels, out_channels, 3)\n",
        "        self.bn1 = bn(out_channels)\n",
        "        self.act1 = act()\n",
        "        self.dropout = nn.Dropout(dropout_rate)\n",
        "        self.conv2 = conv(out_channels, out_channels, 3)\n",
        "        self.bn2 = bn(out_channels)\n",
        "        self.act2 = act()\n",
        "\n",
        "    def forward(self, x):\n",
        "        out = self.conv1(x)\n",
        "        out = self.bn1(out)\n",
        "        out = self.act1(out)\n",
        "        out = self.dropout(out)\n",
        "        out = self.conv2(out)\n",
        "        out = self.bn2(out)\n",
        "        out = self.act2(out)\n",
        "        return out + x\n",
        "\n",
        "class ResBlock_v2(nn.Module):\n",
        "    def __init__(self, in_channels, out_channels, dropout_rate=0.2):\n",
        "        super(ResBlock_v2, self).__init__()\n",
        "        self.conv1 = conv(in_channels, out_channels, 3)\n",
        "        self.bn1 = bn(out_channels)\n",
        "        self.act1 = act()\n",
        "\n",
        "        self.conv2 = conv(out_channels, out_channels, 3)\n",
        "        self.bn2 = bn(out_channels)\n",
        "        self.act2 = act()\n",
        "\n",
        "        self.conv3 = conv(out_channels, out_channels, 3)\n",
        "        self.bn3 = bn(out_channels)\n",
        "        self.act3 = act()\n",
        "\n",
        "    def forward(self, x):\n",
        "        out = self.conv1(x)\n",
        "        out = self.bn1(out)\n",
        "        out1 = self.act1(out)\n",
        "        out = self.conv2(out1)\n",
        "        out = self.bn2(out)\n",
        "        out2 = self.act2(out)\n",
        "        out = self.conv3(out2)\n",
        "        out = self.bn3(out)\n",
        "        out3 = self.act3(out)\n",
        "        return x + out1 + out2 + out3\n",
        "\n",
        "\n",
        "class Head(nn.Module):\n",
        "    def __init__(self, in_channels, shrink_times):\n",
        "        super(Head, self).__init__()\n",
        "        head = []\n",
        "        n_feat = 16\n",
        "        head.append(conv(in_channels, n_feat))\n",
        "        head.append(bn(n_feat))\n",
        "        head.append(act())\n",
        "        head.append(pool())\n",
        "        head.append(conv(n_feat, n_feat*2))\n",
        "        head.append(bn(n_feat*2))\n",
        "        head.append(act())\n",
        "        head.append(pool())\n",
        "        head.append(conv(n_feat*2, n_feat*2))\n",
        "        head.append(bn(n_feat*2))\n",
        "        head.append(act())\n",
        "        head.append(pool())\n",
        "\n",
        "        self.head = nn.Sequential(*head)\n",
        "\n",
        "    def forward(self, x):\n",
        "        return self.head(x)\n",
        "\n",
        "class Body(nn.Module):\n",
        "    def __init__(self, in_channels, out_channels, n_blocks):\n",
        "        super(Body, self).__init__()\n",
        "        body = []\n",
        "        body.append(ResBlock(in_channels, out_channels))\n",
        "        for _ in range(n_blocks-1):\n",
        "            body.append(ResBlock_v2(out_channels, out_channels))\n",
        "\n",
        "        self.body = nn.Sequential(*body)\n",
        "\n",
        "    def forward(self, x):\n",
        "        return self.body(x)\n"
      ]
    },
    {
      "cell_type": "code",
      "execution_count": null,
      "metadata": {
        "execution": {
          "iopub.execute_input": "2024-06-20T04:48:46.116084Z",
          "iopub.status.busy": "2024-06-20T04:48:46.114812Z",
          "iopub.status.idle": "2024-06-20T04:48:46.123750Z",
          "shell.execute_reply": "2024-06-20T04:48:46.122613Z",
          "shell.execute_reply.started": "2024-06-20T04:48:46.116044Z"
        },
        "id": "5Xqc4YHuC_9p",
        "trusted": true
      },
      "outputs": [],
      "source": [
        "class Net1(torch.nn.Module):\n",
        "    def __init__(self):\n",
        "        super(Net1, self).__init__()\n",
        "\n",
        "        self.head = Head(3, 5)\n",
        "        n_body_feat = 32\n",
        "        self.body = Body(n_body_feat, n_body_feat, 2)\n",
        "        self.fc = nn.Sequential(\n",
        "            nn.AdaptiveAvgPool2d(3),\n",
        "            nn.Flatten(),\n",
        "            nn.Linear(3*3*n_body_feat, 1),\n",
        "            nn.Sigmoid()\n",
        "        )\n",
        "\n",
        "\n",
        "    def forward(self, x):\n",
        "        x = self.head(x)\n",
        "        x = self.body(x)\n",
        "        x = self.fc(x)\n",
        "        return x"
      ]
    },
    {
      "cell_type": "markdown",
      "metadata": {
        "id": "bLFH2ZP3C_9q"
      },
      "source": [
        "# Test"
      ]
    },
    {
      "cell_type": "code",
      "execution_count": null,
      "metadata": {
        "execution": {
          "iopub.execute_input": "2024-06-20T04:48:46.126302Z",
          "iopub.status.busy": "2024-06-20T04:48:46.125866Z",
          "iopub.status.idle": "2024-06-20T04:48:46.142390Z",
          "shell.execute_reply": "2024-06-20T04:48:46.141401Z",
          "shell.execute_reply.started": "2024-06-20T04:48:46.126274Z"
        },
        "id": "HsH6_F6eC_9q",
        "trusted": true
      },
      "outputs": [],
      "source": [
        "def test(model, testloader):\n",
        "    model.eval()\n",
        "    correct = 0\n",
        "    total = 0\n",
        "    with torch.no_grad():\n",
        "        for data in testloader:\n",
        "            inputs, labels = data\n",
        "            inputs, labels = inputs.to(device), labels.to(device)\n",
        "            outputs = model(inputs)\n",
        "            predicted = torch.round(outputs).squeeze()\n",
        "            total += labels.size(0)\n",
        "            correct += (predicted == labels).sum().item()\n",
        "    return correct / total"
      ]
    },
    {
      "cell_type": "markdown",
      "metadata": {
        "id": "xVRiFE8uC_9q"
      },
      "source": [
        "# Train"
      ]
    },
    {
      "cell_type": "code",
      "execution_count": null,
      "metadata": {
        "execution": {
          "iopub.execute_input": "2024-06-20T04:48:46.144406Z",
          "iopub.status.busy": "2024-06-20T04:48:46.144054Z",
          "iopub.status.idle": "2024-06-20T04:48:46.157535Z",
          "shell.execute_reply": "2024-06-20T04:48:46.156670Z",
          "shell.execute_reply.started": "2024-06-20T04:48:46.144379Z"
        },
        "id": "MU4wzAY8C_9q",
        "trusted": true
      },
      "outputs": [],
      "source": [
        "def train(model, trainloader, criterion, optimizer,epochs=10, test_loader=None):\n",
        "    best_test_accuracy = 0\n",
        "    training_accuracy_record = []\n",
        "    testing_accuracy_record = []\n",
        "    for epoch in range(epochs):\n",
        "        model.train()\n",
        "        running_loss = 0.0\n",
        "        cur_samples = 0\n",
        "        cur_correct_pred = 0\n",
        "        for data in trainloader:\n",
        "            inputs, labels = data\n",
        "            inputs, labels = inputs.to(device), labels.to(device)\n",
        "            optimizer.zero_grad()\n",
        "            outputs = model(inputs)\n",
        "            outputs = outputs.squeeze()\n",
        "            loss = criterion(outputs, labels.float())\n",
        "            loss.backward()\n",
        "            optimizer.step()\n",
        "            running_loss += loss.item()\n",
        "\n",
        "            predicted = torch.round(outputs).squeeze()\n",
        "            cur_samples += labels.size(0)\n",
        "            cur_correct_pred += (predicted == labels).sum().item()\n",
        "        training_accuracy = cur_correct_pred / cur_samples * 100\n",
        "        training_accuracy_record.append(training_accuracy)\n",
        "        test_accuracy = test(model, test_loader) * 100\n",
        "        testing_accuracy_record.append(test_accuracy)\n",
        "        if test_accuracy > best_test_accuracy:\n",
        "            torch.save(model.state_dict(), 'best_model.pth')\n",
        "        best_test_accuracy = max(best_test_accuracy, test_accuracy)\n",
        "        print(f'Epoch {epoch +1}, Training Accuracy: {training_accuracy :.2f}%, Test Accuracy: {test_accuracy:.2f}%')\n",
        "    print(f'BEST TEST ACCURACY: {best_test_accuracy:.2f}%')\n",
        "    return training_accuracy_record, testing_accuracy_record\n"
      ]
    },
    {
      "cell_type": "markdown",
      "metadata": {
        "id": "o0sp553fC_9q"
      },
      "source": [
        "# Model's Info"
      ]
    },
    {
      "cell_type": "code",
      "execution_count": null,
      "metadata": {
        "execution": {
          "iopub.execute_input": "2024-06-20T04:48:46.159015Z",
          "iopub.status.busy": "2024-06-20T04:48:46.158720Z",
          "iopub.status.idle": "2024-06-20T04:48:46.173889Z",
          "shell.execute_reply": "2024-06-20T04:48:46.172914Z",
          "shell.execute_reply.started": "2024-06-20T04:48:46.158991Z"
        },
        "id": "jHhc89brC_9q",
        "trusted": true
      },
      "outputs": [],
      "source": [
        "def show_summary(model):\n",
        "    image = torch.rand(1, 3, 128, 128).cuda()\n",
        "    summary(model, (3, 128, 128))\n",
        "    macs, parm = profile(model, inputs=(image, ))\n",
        "    print(f'FLOPS: {macs * 2 / 1e6:.3f}M, Parameters: {parm / 1e3:.3f}K')"
      ]
    },
    {
      "cell_type": "markdown",
      "metadata": {
        "id": "Sk1VnwPXC_9r"
      },
      "source": [
        "# Execution"
      ]
    },
    {
      "cell_type": "code",
      "execution_count": null,
      "metadata": {
        "colab": {
          "base_uri": "https://localhost:8080/"
        },
        "execution": {
          "iopub.execute_input": "2024-06-20T04:48:46.176655Z",
          "iopub.status.busy": "2024-06-20T04:48:46.175971Z",
          "iopub.status.idle": "2024-06-20T04:48:46.245036Z",
          "shell.execute_reply": "2024-06-20T04:48:46.244189Z",
          "shell.execute_reply.started": "2024-06-20T04:48:46.176623Z"
        },
        "id": "xhjKnXy9C_9r",
        "outputId": "526d41d2-d3dd-46b9-89df-8dc755100211",
        "trusted": true
      },
      "outputs": [],
      "source": [
        "model = Net1()\n",
        "if torch.cuda.is_available():\n",
        "    model.cuda()\n",
        "criteria = nn.BCELoss()\n",
        "optimizer = optim.Adam(model.parameters(), lr=0.01)\n",
        "scheduler = optim.lr_scheduler.ReduceLROnPlateau(optimizer, mode='min', factor=0.6, patience=1, verbose=True)\n",
        "show_summary(model)"
      ]
    },
    {
      "cell_type": "code",
      "execution_count": null,
      "metadata": {
        "colab": {
          "base_uri": "https://localhost:8080/",
          "height": 460
        },
        "execution": {
          "iopub.execute_input": "2024-06-20T04:48:46.246314Z",
          "iopub.status.busy": "2024-06-20T04:48:46.246049Z"
        },
        "id": "yQPBgW4FC_9r",
        "outputId": "8d20002e-c3de-42fb-d43c-1783e41f1110",
        "trusted": true
      },
      "outputs": [],
      "source": [
        "training_accuracy_record, testing_accuracy_record = train(model, train_loader, criteria, optimizer,epochs=600, test_loader=test_loader)"
      ]
    },
    {
      "cell_type": "markdown",
      "metadata": {
        "id": "BDdpr3HAjKah"
      },
      "source": [
        "# Plot"
      ]
    },
    {
      "cell_type": "code",
      "execution_count": null,
      "metadata": {
        "colab": {
          "base_uri": "https://localhost:8080/",
          "height": 472
        },
        "id": "qVEWXQABjL_2",
        "outputId": "3467a401-a942-4906-b93d-e001da9620ee",
        "trusted": true
      },
      "outputs": [],
      "source": [
        "plt.figure()\n",
        "plt.plot(training_accuracy_record, label='Training Accuracy')\n",
        "plt.plot(testing_accuracy_record, label='Testing Accuracy')\n",
        "plt.xlabel('Epoch')\n",
        "plt.ylabel('Accuracy')\n",
        "plt.title('Training Accuracy vs Testing Accuracy')\n",
        "plt.legend()\n",
        "plt.savefig('accuracy.png')\n"
      ]
    },
    {
      "cell_type": "markdown",
      "metadata": {
        "id": "n-o7OtDmkaIi"
      },
      "source": [
        "# Demo"
      ]
    },
    {
      "cell_type": "code",
      "execution_count": null,
      "metadata": {
        "colab": {
          "base_uri": "https://localhost:8080/"
        },
        "id": "vB7EgeVCkaIi",
        "outputId": "38e18a8b-6389-4326-8ea9-ebbf5c5789a8"
      },
      "outputs": [],
      "source": [
        "demo_dataset = ImageFolder(root='./dataset_demo', transform=testing_transforms)\n",
        "demo_dataloader = DataLoader(demo_dataset, batch_size=64, shuffle=True, num_workers=4)\n",
        "\n",
        "demo_model = Net1()\n",
        "demo_model.to(device)\n",
        "input_image = torch.rand(1, 3, 128, 128).cuda()\n",
        "macs, parm = profile(demo_model, inputs=(input_image, ))\n",
        "\n",
        "demo_model.load_state_dict(torch.load('best_model.pth'))\n",
        "demo_model.eval()\n",
        "test_accuracy = test(demo_model, demo_dataloader)\n",
        "print()\n",
        "print(f'(1) testing accuracy of this demo dataset: {test_accuracy * 100:.2f}%')\n",
        "print(f'(2) FLOPs of your model: {macs * 2 / 1e6:.3f}M')\n",
        "print(f'(3) number of trainable parameters of your model: {parm / 1e3:.3f}K')"
      ]
    }
  ],
  "metadata": {
    "accelerator": "GPU",
    "colab": {
      "gpuType": "T4",
      "provenance": []
    },
    "kaggle": {
      "accelerator": "nvidiaTeslaT4",
      "dataSources": [
        {
          "datasetId": 5242583,
          "sourceId": 8733766,
          "sourceType": "datasetVersion"
        }
      ],
      "isGpuEnabled": true,
      "isInternetEnabled": true,
      "language": "python",
      "sourceType": "notebook"
    },
    "kernelspec": {
      "display_name": "Python 3",
      "language": "python",
      "name": "python3"
    },
    "language_info": {
      "codemirror_mode": {
        "name": "ipython",
        "version": 3
      },
      "file_extension": ".py",
      "mimetype": "text/x-python",
      "name": "python",
      "nbconvert_exporter": "python",
      "pygments_lexer": "ipython3",
      "version": "3.10.14"
    }
  },
  "nbformat": 4,
  "nbformat_minor": 0
}
